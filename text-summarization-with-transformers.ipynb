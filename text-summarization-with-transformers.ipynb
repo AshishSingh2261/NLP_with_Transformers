{
 "cells": [
  {
   "cell_type": "markdown",
   "id": "heated-plane",
   "metadata": {
    "papermill": {
     "duration": 0.029023,
     "end_time": "2021-06-13T12:48:18.230858",
     "exception": false,
     "start_time": "2021-06-13T12:48:18.201835",
     "status": "completed"
    },
    "tags": []
   },
   "source": [
    "# Acknowledgements\n",
    "\n",
    "The code for the transformer model is take from  this tutorial https://www.tensorflow.org/text/tutorials/transformer"
   ]
  },
  {
   "cell_type": "markdown",
   "id": "geographic-fourth",
   "metadata": {
    "papermill": {
     "duration": 0.02738,
     "end_time": "2021-06-13T12:48:18.286134",
     "exception": false,
     "start_time": "2021-06-13T12:48:18.258754",
     "status": "completed"
    },
    "tags": []
   },
   "source": [
    "# Installing Packages needed and Importing Libraries"
   ]
  },
  {
   "cell_type": "code",
   "execution_count": 1,
   "id": "classical-spyware",
   "metadata": {
    "execution": {
     "iopub.execute_input": "2021-06-13T12:48:18.360671Z",
     "iopub.status.busy": "2021-06-13T12:48:18.350120Z",
     "iopub.status.idle": "2021-06-13T12:48:26.397361Z",
     "shell.execute_reply": "2021-06-13T12:48:26.396761Z",
     "shell.execute_reply.started": "2021-06-13T11:49:50.690326Z"
    },
    "papermill": {
     "duration": 8.084105,
     "end_time": "2021-06-13T12:48:26.397497",
     "exception": false,
     "start_time": "2021-06-13T12:48:18.313392",
     "status": "completed"
    },
    "tags": []
   },
   "outputs": [],
   "source": [
    "!pip install openpyxl  --quiet"
   ]
  },
  {
   "cell_type": "code",
   "execution_count": 2,
   "id": "going-lotus",
   "metadata": {
    "execution": {
     "iopub.execute_input": "2021-06-13T12:48:26.458131Z",
     "iopub.status.busy": "2021-06-13T12:48:26.457384Z",
     "iopub.status.idle": "2021-06-13T12:48:31.451218Z",
     "shell.execute_reply": "2021-06-13T12:48:31.450303Z",
     "shell.execute_reply.started": "2021-06-13T11:49:57.938188Z"
    },
    "papermill": {
     "duration": 5.026232,
     "end_time": "2021-06-13T12:48:31.451366",
     "exception": false,
     "start_time": "2021-06-13T12:48:26.425134",
     "status": "completed"
    },
    "tags": []
   },
   "outputs": [],
   "source": [
    "import numpy as np\n",
    "import matplotlib.pyplot as plt\n",
    "import seaborn as sns\n",
    "import pandas as pd\n",
    "from collections import defaultdict\n",
    "import string\n",
    "import tensorflow as tf\n",
    "import re\n",
    "import os\n",
    "import time\n",
    "from tensorflow import keras\n",
    "from tensorflow.keras.layers import Dense, Input\n",
    "from tensorflow.keras.optimizers import Adam\n",
    "from tensorflow.keras.models import Model\n",
    "from tensorflow.keras.callbacks import ModelCheckpoint\n",
    "from sklearn.preprocessing import OneHotEncoder\n",
    "from sklearn.model_selection import train_test_split"
   ]
  },
  {
   "cell_type": "code",
   "execution_count": 3,
   "id": "fundamental-huntington",
   "metadata": {
    "execution": {
     "iopub.execute_input": "2021-06-13T12:48:31.513505Z",
     "iopub.status.busy": "2021-06-13T12:48:31.512639Z",
     "iopub.status.idle": "2021-06-13T12:48:31.515313Z",
     "shell.execute_reply": "2021-06-13T12:48:31.514854Z",
     "shell.execute_reply.started": "2021-06-13T11:50:03.399228Z"
    },
    "papermill": {
     "duration": 0.034609,
     "end_time": "2021-06-13T12:48:31.515416",
     "exception": false,
     "start_time": "2021-06-13T12:48:31.480807",
     "status": "completed"
    },
    "tags": []
   },
   "outputs": [],
   "source": [
    "ENCODER_LEN = 100\n",
    "DECODER_LEN = 20\n",
    "BATCH_SIZE = 64\n",
    "BUFFER_SIZE = BATCH_SIZE*8"
   ]
  },
  {
   "cell_type": "markdown",
   "id": "addressed-tribute",
   "metadata": {
    "papermill": {
     "duration": 0.02724,
     "end_time": "2021-06-13T12:48:31.570192",
     "exception": false,
     "start_time": "2021-06-13T12:48:31.542952",
     "status": "completed"
    },
    "tags": []
   },
   "source": [
    "# Dataset\n",
    "\n",
    "After creating the dataframe we apply Start of Sentence(<SOS>) and End of Sentence(<EOS>) tokens. \n",
    "These sentences are then tokenized and padded to fix length."
   ]
  },
  {
   "cell_type": "code",
   "execution_count": 4,
   "id": "geographic-freedom",
   "metadata": {
    "execution": {
     "iopub.execute_input": "2021-06-13T12:48:31.629500Z",
     "iopub.status.busy": "2021-06-13T12:48:31.628641Z",
     "iopub.status.idle": "2021-06-13T12:48:40.213519Z",
     "shell.execute_reply": "2021-06-13T12:48:40.213085Z",
     "shell.execute_reply.started": "2021-06-13T11:50:03.407363Z"
    },
    "papermill": {
     "duration": 8.615832,
     "end_time": "2021-06-13T12:48:40.213641",
     "exception": false,
     "start_time": "2021-06-13T12:48:31.597809",
     "status": "completed"
    },
    "tags": []
   },
   "outputs": [
    {
     "data": {
      "text/html": [
       "<div>\n",
       "<style scoped>\n",
       "    .dataframe tbody tr th:only-of-type {\n",
       "        vertical-align: middle;\n",
       "    }\n",
       "\n",
       "    .dataframe tbody tr th {\n",
       "        vertical-align: top;\n",
       "    }\n",
       "\n",
       "    .dataframe thead th {\n",
       "        text-align: right;\n",
       "    }\n",
       "</style>\n",
       "<table border=\"1\" class=\"dataframe\">\n",
       "  <thead>\n",
       "    <tr style=\"text-align: right;\">\n",
       "      <th></th>\n",
       "      <th>Headline</th>\n",
       "      <th>Short</th>\n",
       "    </tr>\n",
       "  </thead>\n",
       "  <tbody>\n",
       "    <tr>\n",
       "      <th>0</th>\n",
       "      <td>4 ex-bank officials booked for cheating bank o...</td>\n",
       "      <td>The CBI on Saturday booked four former officia...</td>\n",
       "    </tr>\n",
       "    <tr>\n",
       "      <th>1</th>\n",
       "      <td>Supreme Court to go paperless in 6 months: CJI</td>\n",
       "      <td>Chief Justice JS Khehar has said the Supreme C...</td>\n",
       "    </tr>\n",
       "    <tr>\n",
       "      <th>2</th>\n",
       "      <td>At least 3 killed, 30 injured in blast in Sylh...</td>\n",
       "      <td>At least three people were killed, including a...</td>\n",
       "    </tr>\n",
       "    <tr>\n",
       "      <th>3</th>\n",
       "      <td>Why has Reliance been barred from trading in f...</td>\n",
       "      <td>Mukesh Ambani-led Reliance Industries (RIL) wa...</td>\n",
       "    </tr>\n",
       "    <tr>\n",
       "      <th>4</th>\n",
       "      <td>Was stopped from entering my own studio at Tim...</td>\n",
       "      <td>TV news anchor Arnab Goswami has said he was t...</td>\n",
       "    </tr>\n",
       "  </tbody>\n",
       "</table>\n",
       "</div>"
      ],
      "text/plain": [
       "                                            Headline  \\\n",
       "0  4 ex-bank officials booked for cheating bank o...   \n",
       "1     Supreme Court to go paperless in 6 months: CJI   \n",
       "2  At least 3 killed, 30 injured in blast in Sylh...   \n",
       "3  Why has Reliance been barred from trading in f...   \n",
       "4  Was stopped from entering my own studio at Tim...   \n",
       "\n",
       "                                               Short  \n",
       "0  The CBI on Saturday booked four former officia...  \n",
       "1  Chief Justice JS Khehar has said the Supreme C...  \n",
       "2  At least three people were killed, including a...  \n",
       "3  Mukesh Ambani-led Reliance Industries (RIL) wa...  \n",
       "4  TV news anchor Arnab Goswami has said he was t...  "
      ]
     },
     "execution_count": 4,
     "metadata": {},
     "output_type": "execute_result"
    }
   ],
   "source": [
    "news = pd.read_excel(\"../input/inshorts-news-data/Inshorts Cleaned Data.xlsx\",engine = 'openpyxl')\n",
    "news.drop(['Source ', 'Time ', 'Publish Date'], axis=1, inplace=True)\n",
    "news.head()"
   ]
  },
  {
   "cell_type": "code",
   "execution_count": 5,
   "id": "verbal-world",
   "metadata": {
    "execution": {
     "iopub.execute_input": "2021-06-13T12:48:40.285066Z",
     "iopub.status.busy": "2021-06-13T12:48:40.274654Z",
     "iopub.status.idle": "2021-06-13T12:48:40.343856Z",
     "shell.execute_reply": "2021-06-13T12:48:40.343389Z",
     "shell.execute_reply.started": "2021-06-13T11:50:12.186664Z"
    },
    "papermill": {
     "duration": 0.101908,
     "end_time": "2021-06-13T12:48:40.343983",
     "exception": false,
     "start_time": "2021-06-13T12:48:40.242075",
     "status": "completed"
    },
    "tags": []
   },
   "outputs": [],
   "source": [
    "article = news['Short']\n",
    "summary = news['Headline']\n",
    "article = article.apply(lambda x: '<SOS> ' + x + ' <EOS>')\n",
    "summary = summary.apply(lambda x: '<SOS> ' + x + ' <EOS>')"
   ]
  },
  {
   "cell_type": "code",
   "execution_count": 6,
   "id": "looking-plymouth",
   "metadata": {
    "execution": {
     "iopub.execute_input": "2021-06-13T12:48:40.404860Z",
     "iopub.status.busy": "2021-06-13T12:48:40.404046Z",
     "iopub.status.idle": "2021-06-13T12:48:40.650622Z",
     "shell.execute_reply": "2021-06-13T12:48:40.650158Z",
     "shell.execute_reply.started": "2021-06-13T11:50:12.258025Z"
    },
    "papermill": {
     "duration": 0.278325,
     "end_time": "2021-06-13T12:48:40.650769",
     "exception": false,
     "start_time": "2021-06-13T12:48:40.372444",
     "status": "completed"
    },
    "tags": []
   },
   "outputs": [],
   "source": [
    "def preprocess(text):\n",
    "    text = re.sub(r\"&.[1-9]+;\",\" \",text)\n",
    "    return text\n",
    "article = article.apply(lambda x: preprocess(x))\n",
    "summary = summary.apply(lambda x: preprocess(x))"
   ]
  },
  {
   "cell_type": "code",
   "execution_count": 7,
   "id": "played-sudan",
   "metadata": {
    "execution": {
     "iopub.execute_input": "2021-06-13T12:48:40.735064Z",
     "iopub.status.busy": "2021-06-13T12:48:40.729949Z",
     "iopub.status.idle": "2021-06-13T12:48:48.353025Z",
     "shell.execute_reply": "2021-06-13T12:48:48.352234Z",
     "shell.execute_reply.started": "2021-06-13T11:50:12.504246Z"
    },
    "papermill": {
     "duration": 7.674074,
     "end_time": "2021-06-13T12:48:48.353177",
     "exception": false,
     "start_time": "2021-06-13T12:48:40.679103",
     "status": "completed"
    },
    "tags": []
   },
   "outputs": [],
   "source": [
    "filters = '!\"#$%&()*+,-./:;=?@[\\\\]^_`{|}~\\t\\n'\n",
    "oov_token = '<unk>'\n",
    "article_tokenizer = tf.keras.preprocessing.text.Tokenizer(oov_token=oov_token)\n",
    "summary_tokenizer = tf.keras.preprocessing.text.Tokenizer(filters=filters, oov_token=oov_token)\n",
    "article_tokenizer.fit_on_texts(article)\n",
    "summary_tokenizer.fit_on_texts(summary)\n",
    "inputs = article_tokenizer.texts_to_sequences(article)\n",
    "targets = summary_tokenizer.texts_to_sequences(summary)"
   ]
  },
  {
   "cell_type": "code",
   "execution_count": 8,
   "id": "nominated-dover",
   "metadata": {
    "execution": {
     "iopub.execute_input": "2021-06-13T12:48:48.415000Z",
     "iopub.status.busy": "2021-06-13T12:48:48.413720Z",
     "iopub.status.idle": "2021-06-13T12:48:48.417935Z",
     "shell.execute_reply": "2021-06-13T12:48:48.417337Z",
     "shell.execute_reply.started": "2021-06-13T11:50:19.886438Z"
    },
    "papermill": {
     "duration": 0.036431,
     "end_time": "2021-06-13T12:48:48.418079",
     "exception": false,
     "start_time": "2021-06-13T12:48:48.381648",
     "status": "completed"
    },
    "tags": []
   },
   "outputs": [
    {
     "name": "stdout",
     "output_type": "stream",
     "text": [
      "76362 29661\n"
     ]
    }
   ],
   "source": [
    "ENCODER_VOCAB = len(article_tokenizer.word_index) + 1\n",
    "DECODER_VOCAB = len(summary_tokenizer.word_index) + 1\n",
    "print(ENCODER_VOCAB, DECODER_VOCAB)"
   ]
  },
  {
   "cell_type": "code",
   "execution_count": 9,
   "id": "verbal-institution",
   "metadata": {
    "execution": {
     "iopub.execute_input": "2021-06-13T12:48:48.486616Z",
     "iopub.status.busy": "2021-06-13T12:48:48.481954Z",
     "iopub.status.idle": "2021-06-13T12:48:51.604639Z",
     "shell.execute_reply": "2021-06-13T12:48:51.604171Z",
     "shell.execute_reply.started": "2021-06-13T11:50:19.895906Z"
    },
    "papermill": {
     "duration": 3.157907,
     "end_time": "2021-06-13T12:48:51.604782",
     "exception": false,
     "start_time": "2021-06-13T12:48:48.446875",
     "status": "completed"
    },
    "tags": []
   },
   "outputs": [],
   "source": [
    "inputs = tf.keras.preprocessing.sequence.pad_sequences(inputs, maxlen=ENCODER_LEN, padding='post', truncating='post')\n",
    "targets = tf.keras.preprocessing.sequence.pad_sequences(targets, maxlen=DECODER_LEN, padding='post', truncating='post')\n",
    "inputs = tf.cast(inputs, dtype=tf.int64)\n",
    "targets = tf.cast(targets, dtype=tf.int64)"
   ]
  },
  {
   "cell_type": "code",
   "execution_count": 10,
   "id": "invalid-terminal",
   "metadata": {
    "execution": {
     "iopub.execute_input": "2021-06-13T12:48:51.666531Z",
     "iopub.status.busy": "2021-06-13T12:48:51.665952Z",
     "iopub.status.idle": "2021-06-13T12:48:51.715403Z",
     "shell.execute_reply": "2021-06-13T12:48:51.715806Z",
     "shell.execute_reply.started": "2021-06-13T11:50:23.127282Z"
    },
    "papermill": {
     "duration": 0.082781,
     "end_time": "2021-06-13T12:48:51.715943",
     "exception": false,
     "start_time": "2021-06-13T12:48:51.633162",
     "status": "completed"
    },
    "tags": []
   },
   "outputs": [],
   "source": [
    "dataset = tf.data.Dataset.from_tensor_slices((inputs, targets)).shuffle(BUFFER_SIZE).batch(BATCH_SIZE)"
   ]
  },
  {
   "cell_type": "markdown",
   "id": "static-desert",
   "metadata": {
    "papermill": {
     "duration": 0.027866,
     "end_time": "2021-06-13T12:48:51.772032",
     "exception": false,
     "start_time": "2021-06-13T12:48:51.744166",
     "status": "completed"
    },
    "tags": []
   },
   "source": [
    "# Transformer Model\n",
    "\n",
    "The next several blocks of code contain the vanilla Transformer model.\n",
    "\n",
    "If you want to know about what they are and how they work I suggest this video: https://www.youtube.com/watch?v=4Bdc55j80l8\n",
    "\n",
    "It does an excellent job of giving an overview about them and helped me in understanding them."
   ]
  },
  {
   "cell_type": "code",
   "execution_count": 11,
   "id": "electoral-potential",
   "metadata": {
    "execution": {
     "iopub.execute_input": "2021-06-13T12:48:51.838064Z",
     "iopub.status.busy": "2021-06-13T12:48:51.837424Z",
     "iopub.status.idle": "2021-06-13T12:48:51.841042Z",
     "shell.execute_reply": "2021-06-13T12:48:51.840581Z",
     "shell.execute_reply.started": "2021-06-13T11:50:23.185968Z"
    },
    "papermill": {
     "duration": 0.041142,
     "end_time": "2021-06-13T12:48:51.841148",
     "exception": false,
     "start_time": "2021-06-13T12:48:51.800006",
     "status": "completed"
    },
    "tags": []
   },
   "outputs": [],
   "source": [
    "def get_angles(position, i, d_model):\n",
    "    angle_rates = 1 / np.power(10000, (2 * (i // 2)) / np.float32(d_model))\n",
    "    return position * angle_rates\n",
    "\n",
    "def positional_encoding(position, d_model):\n",
    "    angle_rads = get_angles(\n",
    "        np.arange(position)[:, np.newaxis],\n",
    "        np.arange(d_model)[np.newaxis, :],\n",
    "        d_model\n",
    "    )\n",
    "\n",
    "    angle_rads[:, 0::2] = np.sin(angle_rads[:, 0::2])\n",
    "\n",
    "    angle_rads[:, 1::2] = np.cos(angle_rads[:, 1::2])\n",
    "\n",
    "    pos_encoding = angle_rads[np.newaxis, ...]\n",
    "\n",
    "    return tf.cast(pos_encoding, dtype=tf.float32)\n",
    "\n",
    "def create_padding_mask(seq):\n",
    "    seq = tf.cast(tf.math.equal(seq, 0), tf.float32)\n",
    "    return seq[:, tf.newaxis, tf.newaxis, :]\n",
    "\n",
    "def create_look_ahead_mask(size):\n",
    "    mask = 1 - tf.linalg.band_part(tf.ones((size, size)), -1, 0)\n",
    "    return mask\n",
    "\n",
    "def scaled_dot_product_attention(q, k, v, mask):\n",
    "    matmul_qk = tf.matmul(q, k, transpose_b=True)\n",
    "\n",
    "    dk = tf.cast(tf.shape(k)[-1], tf.float32)\n",
    "    scaled_attention_logits = matmul_qk / tf.math.sqrt(dk)\n",
    "\n",
    "    if mask is not None:\n",
    "        scaled_attention_logits += (mask * -1e9)  \n",
    "\n",
    "    attention_weights = tf.nn.softmax(scaled_attention_logits, axis=-1)\n",
    "\n",
    "    output = tf.matmul(attention_weights, v)\n",
    "    return output, attention_weights\n"
   ]
  },
  {
   "cell_type": "code",
   "execution_count": 12,
   "id": "wanted-render",
   "metadata": {
    "execution": {
     "iopub.execute_input": "2021-06-13T12:48:51.907456Z",
     "iopub.status.busy": "2021-06-13T12:48:51.906874Z",
     "iopub.status.idle": "2021-06-13T12:48:51.909892Z",
     "shell.execute_reply": "2021-06-13T12:48:51.909492Z",
     "shell.execute_reply.started": "2021-06-13T11:50:23.200558Z"
    },
    "papermill": {
     "duration": 0.040644,
     "end_time": "2021-06-13T12:48:51.909995",
     "exception": false,
     "start_time": "2021-06-13T12:48:51.869351",
     "status": "completed"
    },
    "tags": []
   },
   "outputs": [],
   "source": [
    "class MultiHeadAttention(tf.keras.layers.Layer):\n",
    "    def __init__(self, d_model, num_heads):\n",
    "        super(MultiHeadAttention, self).__init__()\n",
    "        self.num_heads = num_heads\n",
    "        self.d_model = d_model\n",
    "\n",
    "        assert d_model % self.num_heads == 0\n",
    "\n",
    "        self.depth = d_model // self.num_heads\n",
    "\n",
    "        self.wq = tf.keras.layers.Dense(d_model)\n",
    "        self.wk = tf.keras.layers.Dense(d_model)\n",
    "        self.wv = tf.keras.layers.Dense(d_model)\n",
    "\n",
    "        self.dense = tf.keras.layers.Dense(d_model)\n",
    "        \n",
    "    def split_heads(self, x, batch_size):\n",
    "        x = tf.reshape(x, (batch_size, -1, self.num_heads, self.depth))\n",
    "        return tf.transpose(x, perm=[0, 2, 1, 3])\n",
    "    \n",
    "    def call(self, v, k, q, mask):\n",
    "        batch_size = tf.shape(q)[0]\n",
    "\n",
    "        q = self.wq(q)\n",
    "        k = self.wk(k)\n",
    "        v = self.wv(v)\n",
    "\n",
    "        q = self.split_heads(q, batch_size)\n",
    "        k = self.split_heads(k, batch_size)\n",
    "        v = self.split_heads(v, batch_size)\n",
    "\n",
    "        scaled_attention, attention_weights = scaled_dot_product_attention(\n",
    "            q, k, v, mask)\n",
    "\n",
    "        scaled_attention = tf.transpose(scaled_attention, perm=[0, 2, 1, 3])\n",
    "        \n",
    "        concat_attention = tf.reshape(scaled_attention, (batch_size, -1, self.d_model))\n",
    "        output = self.dense(concat_attention)\n",
    "            \n",
    "        return output, attention_weights\n",
    "    \n",
    "def point_wise_feed_forward_network(d_model, dff):\n",
    "    return tf.keras.Sequential([\n",
    "        tf.keras.layers.Dense(dff, activation='relu'),\n",
    "        tf.keras.layers.Dense(d_model)\n",
    "    ])"
   ]
  },
  {
   "cell_type": "code",
   "execution_count": 13,
   "id": "cordless-jamaica",
   "metadata": {
    "execution": {
     "iopub.execute_input": "2021-06-13T12:48:51.972934Z",
     "iopub.status.busy": "2021-06-13T12:48:51.972349Z",
     "iopub.status.idle": "2021-06-13T12:48:51.975856Z",
     "shell.execute_reply": "2021-06-13T12:48:51.975442Z",
     "shell.execute_reply.started": "2021-06-13T11:50:23.214962Z"
    },
    "papermill": {
     "duration": 0.037752,
     "end_time": "2021-06-13T12:48:51.975959",
     "exception": false,
     "start_time": "2021-06-13T12:48:51.938207",
     "status": "completed"
    },
    "tags": []
   },
   "outputs": [],
   "source": [
    "class EncoderLayer(tf.keras.layers.Layer):\n",
    "    def __init__(self, d_model, num_heads, dff, rate=0.1):\n",
    "        super(EncoderLayer, self).__init__()\n",
    "\n",
    "        self.mha = MultiHeadAttention(d_model, num_heads)\n",
    "        self.ffn = point_wise_feed_forward_network(d_model, dff)\n",
    "\n",
    "        self.layernorm1 = tf.keras.layers.LayerNormalization(epsilon=1e-6)\n",
    "        self.layernorm2 = tf.keras.layers.LayerNormalization(epsilon=1e-6)\n",
    "\n",
    "        self.dropout1 = tf.keras.layers.Dropout(rate)\n",
    "        self.dropout2 = tf.keras.layers.Dropout(rate)\n",
    "    \n",
    "    def call(self, x, training, mask):\n",
    "        attn_output, _ = self.mha(x, x, x, mask)\n",
    "        attn_output = self.dropout1(attn_output, training=training)\n",
    "        out1 = self.layernorm1(x + attn_output)\n",
    "\n",
    "        ffn_output = self.ffn(out1)\n",
    "        ffn_output = self.dropout2(ffn_output, training=training)\n",
    "        out2 = self.layernorm2(out1 + ffn_output)\n",
    "\n",
    "        return out2"
   ]
  },
  {
   "cell_type": "code",
   "execution_count": 14,
   "id": "respected-presentation",
   "metadata": {
    "execution": {
     "iopub.execute_input": "2021-06-13T12:48:52.040322Z",
     "iopub.status.busy": "2021-06-13T12:48:52.038859Z",
     "iopub.status.idle": "2021-06-13T12:48:52.043407Z",
     "shell.execute_reply": "2021-06-13T12:48:52.043780Z",
     "shell.execute_reply.started": "2021-06-13T11:50:23.229859Z"
    },
    "papermill": {
     "duration": 0.040214,
     "end_time": "2021-06-13T12:48:52.043897",
     "exception": false,
     "start_time": "2021-06-13T12:48:52.003683",
     "status": "completed"
    },
    "tags": []
   },
   "outputs": [],
   "source": [
    "class DecoderLayer(tf.keras.layers.Layer):\n",
    "    def __init__(self, d_model, num_heads, dff, rate=0.1):\n",
    "        super(DecoderLayer, self).__init__()\n",
    "\n",
    "        self.mha1 = MultiHeadAttention(d_model, num_heads)\n",
    "        self.mha2 = MultiHeadAttention(d_model, num_heads)\n",
    "\n",
    "        self.ffn = point_wise_feed_forward_network(d_model, dff)\n",
    "\n",
    "        self.layernorm1 = tf.keras.layers.LayerNormalization(epsilon=1e-6)\n",
    "        self.layernorm2 = tf.keras.layers.LayerNormalization(epsilon=1e-6)\n",
    "        self.layernorm3 = tf.keras.layers.LayerNormalization(epsilon=1e-6)\n",
    "\n",
    "        self.dropout1 = tf.keras.layers.Dropout(rate)\n",
    "        self.dropout2 = tf.keras.layers.Dropout(rate)\n",
    "        self.dropout3 = tf.keras.layers.Dropout(rate)\n",
    "    \n",
    "    \n",
    "    def call(self, x, enc_output, training, look_ahead_mask, padding_mask):\n",
    "        attn1, attn_weights_block1 = self.mha1(x, x, x, look_ahead_mask)\n",
    "        attn1 = self.dropout1(attn1, training=training)\n",
    "        out1 = self.layernorm1(attn1 + x)\n",
    "\n",
    "        attn2, attn_weights_block2 = self.mha2(enc_output, enc_output, out1, padding_mask)\n",
    "        attn2 = self.dropout2(attn2, training=training)\n",
    "        out2 = self.layernorm2(attn2 + out1)\n",
    "\n",
    "        ffn_output = self.ffn(out2)\n",
    "        ffn_output = self.dropout3(ffn_output, training=training)\n",
    "        out3 = self.layernorm3(ffn_output + out2)\n",
    "\n",
    "        return out3, attn_weights_block1, attn_weights_block2"
   ]
  },
  {
   "cell_type": "code",
   "execution_count": 15,
   "id": "quarterly-refund",
   "metadata": {
    "execution": {
     "iopub.execute_input": "2021-06-13T12:48:52.112766Z",
     "iopub.status.busy": "2021-06-13T12:48:52.106921Z",
     "iopub.status.idle": "2021-06-13T12:48:52.114764Z",
     "shell.execute_reply": "2021-06-13T12:48:52.115126Z",
     "shell.execute_reply.started": "2021-06-13T11:50:23.245502Z"
    },
    "papermill": {
     "duration": 0.043615,
     "end_time": "2021-06-13T12:48:52.115242",
     "exception": false,
     "start_time": "2021-06-13T12:48:52.071627",
     "status": "completed"
    },
    "tags": []
   },
   "outputs": [],
   "source": [
    "class Encoder(tf.keras.layers.Layer):\n",
    "    def __init__(self, num_layers, d_model, num_heads, dff, input_vocab_size, maximum_position_encoding, rate=0.1):\n",
    "        super(Encoder, self).__init__()\n",
    "\n",
    "        self.d_model = d_model\n",
    "        self.num_layers = num_layers\n",
    "\n",
    "        self.embedding = tf.keras.layers.Embedding(input_vocab_size, d_model)\n",
    "        self.pos_encoding = positional_encoding(maximum_position_encoding, self.d_model)\n",
    "\n",
    "        self.enc_layers = [EncoderLayer(d_model, num_heads, dff, rate) for _ in range(num_layers)]\n",
    "\n",
    "        self.dropout = tf.keras.layers.Dropout(rate)\n",
    "        \n",
    "    def call(self, x, training, mask):\n",
    "        seq_len = tf.shape(x)[1]\n",
    "\n",
    "        x = self.embedding(x)\n",
    "        x *= tf.math.sqrt(tf.cast(self.d_model, tf.float32))\n",
    "        x += self.pos_encoding[:, :seq_len, :]\n",
    "\n",
    "        x = self.dropout(x, training=training)\n",
    "    \n",
    "        for i in range(self.num_layers):\n",
    "            x = self.enc_layers[i](x, training, mask)\n",
    "    \n",
    "        return x\n",
    "    \n",
    "class Decoder(tf.keras.layers.Layer):\n",
    "        \n",
    "    def __init__(self, num_layers, d_model, num_heads, dff, target_vocab_size, maximum_position_encoding, rate=0.1):\n",
    "        super(Decoder, self).__init__()\n",
    "\n",
    "        self.d_model = d_model\n",
    "        self.num_layers = num_layers\n",
    "\n",
    "        self.embedding = tf.keras.layers.Embedding(target_vocab_size, d_model)\n",
    "        self.pos_encoding = positional_encoding(maximum_position_encoding, d_model)\n",
    "\n",
    "        self.dec_layers = [DecoderLayer(d_model, num_heads, dff, rate) for _ in range(num_layers)]\n",
    "        self.dropout = tf.keras.layers.Dropout(rate)\n",
    "    \n",
    "    def call(self, x, enc_output, training, look_ahead_mask, padding_mask):\n",
    "        seq_len = tf.shape(x)[1]\n",
    "        attention_weights = {}\n",
    "\n",
    "        x = self.embedding(x)\n",
    "        x *= tf.math.sqrt(tf.cast(self.d_model, tf.float32))\n",
    "        x += self.pos_encoding[:, :seq_len, :]\n",
    "\n",
    "        x = self.dropout(x, training=training)\n",
    "\n",
    "        for i in range(self.num_layers):\n",
    "            x, block1, block2 = self.dec_layers[i](x, enc_output, training, look_ahead_mask, padding_mask)\n",
    "\n",
    "            attention_weights['decoder_layer{}_block1'.format(i+1)] = block1\n",
    "            attention_weights['decoder_layer{}_block2'.format(i+1)] = block2\n",
    "    \n",
    "        return x, attention_weights\n",
    "    "
   ]
  },
  {
   "cell_type": "code",
   "execution_count": 16,
   "id": "furnished-tobago",
   "metadata": {
    "execution": {
     "iopub.execute_input": "2021-06-13T12:48:52.177465Z",
     "iopub.status.busy": "2021-06-13T12:48:52.176900Z",
     "iopub.status.idle": "2021-06-13T12:48:52.179869Z",
     "shell.execute_reply": "2021-06-13T12:48:52.179473Z",
     "shell.execute_reply.started": "2021-06-13T11:50:23.263592Z"
    },
    "papermill": {
     "duration": 0.036646,
     "end_time": "2021-06-13T12:48:52.179971",
     "exception": false,
     "start_time": "2021-06-13T12:48:52.143325",
     "status": "completed"
    },
    "tags": []
   },
   "outputs": [],
   "source": [
    "class Transformer(tf.keras.Model):\n",
    "    def __init__(self, num_layers, d_model, num_heads, dff, input_vocab_size, target_vocab_size, pe_input, pe_target, rate=0.1):\n",
    "        super(Transformer, self).__init__()\n",
    "\n",
    "        self.encoder = Encoder(num_layers, d_model, num_heads, dff, input_vocab_size, pe_input, rate)\n",
    "\n",
    "        self.decoder = Decoder(num_layers, d_model, num_heads, dff, target_vocab_size, pe_target, rate)\n",
    "\n",
    "        self.final_layer = tf.keras.layers.Dense(target_vocab_size)\n",
    "    \n",
    "    def call(self, inp, tar, training, enc_padding_mask, look_ahead_mask, dec_padding_mask):\n",
    "        enc_output = self.encoder(inp, training, enc_padding_mask)\n",
    "\n",
    "        dec_output, attention_weights = self.decoder(tar, enc_output, training, look_ahead_mask, dec_padding_mask)\n",
    "\n",
    "        final_output = self.final_layer(dec_output)\n",
    "\n",
    "        return final_output, attention_weights"
   ]
  },
  {
   "cell_type": "code",
   "execution_count": 17,
   "id": "tribal-housing",
   "metadata": {
    "execution": {
     "iopub.execute_input": "2021-06-13T12:48:52.238642Z",
     "iopub.status.busy": "2021-06-13T12:48:52.238162Z",
     "iopub.status.idle": "2021-06-13T12:48:52.241874Z",
     "shell.execute_reply": "2021-06-13T12:48:52.241466Z",
     "shell.execute_reply.started": "2021-06-13T11:50:23.277967Z"
    },
    "papermill": {
     "duration": 0.034403,
     "end_time": "2021-06-13T12:48:52.241977",
     "exception": false,
     "start_time": "2021-06-13T12:48:52.207574",
     "status": "completed"
    },
    "tags": []
   },
   "outputs": [],
   "source": [
    "num_layers = 3\n",
    "d_model = 128\n",
    "dff = 512\n",
    "num_heads = 4\n",
    "dropout_rate = 0.2\n",
    "EPOCHS = 15"
   ]
  },
  {
   "cell_type": "markdown",
   "id": "enormous-titanium",
   "metadata": {
    "papermill": {
     "duration": 0.027668,
     "end_time": "2021-06-13T12:48:52.297454",
     "exception": false,
     "start_time": "2021-06-13T12:48:52.269786",
     "status": "completed"
    },
    "tags": []
   },
   "source": [
    "# Custom Learning Rate"
   ]
  },
  {
   "cell_type": "code",
   "execution_count": 18,
   "id": "undefined-bloom",
   "metadata": {
    "execution": {
     "iopub.execute_input": "2021-06-13T12:48:52.359071Z",
     "iopub.status.busy": "2021-06-13T12:48:52.358419Z",
     "iopub.status.idle": "2021-06-13T12:48:52.360717Z",
     "shell.execute_reply": "2021-06-13T12:48:52.361095Z",
     "shell.execute_reply.started": "2021-06-13T11:50:23.290495Z"
    },
    "papermill": {
     "duration": 0.035682,
     "end_time": "2021-06-13T12:48:52.361210",
     "exception": false,
     "start_time": "2021-06-13T12:48:52.325528",
     "status": "completed"
    },
    "tags": []
   },
   "outputs": [],
   "source": [
    "class CustomSchedule(tf.keras.optimizers.schedules.LearningRateSchedule):\n",
    "    def __init__(self, d_model, warmup_steps=4000):\n",
    "        super(CustomSchedule, self).__init__()\n",
    "\n",
    "        self.d_model = d_model\n",
    "        self.d_model = tf.cast(self.d_model, tf.float32)\n",
    "\n",
    "        self.warmup_steps = warmup_steps\n",
    "    \n",
    "    def __call__(self, step):\n",
    "        arg1 = tf.math.rsqrt(step)\n",
    "        arg2 = step * (self.warmup_steps ** -1.5)\n",
    "\n",
    "        return tf.math.rsqrt(self.d_model) * tf.math.minimum(arg1, arg2)"
   ]
  },
  {
   "cell_type": "code",
   "execution_count": 19,
   "id": "gorgeous-worcester",
   "metadata": {
    "execution": {
     "iopub.execute_input": "2021-06-13T12:48:52.421039Z",
     "iopub.status.busy": "2021-06-13T12:48:52.420259Z",
     "iopub.status.idle": "2021-06-13T12:48:52.423917Z",
     "shell.execute_reply": "2021-06-13T12:48:52.423495Z",
     "shell.execute_reply.started": "2021-06-13T11:50:23.299917Z"
    },
    "papermill": {
     "duration": 0.034783,
     "end_time": "2021-06-13T12:48:52.424019",
     "exception": false,
     "start_time": "2021-06-13T12:48:52.389236",
     "status": "completed"
    },
    "tags": []
   },
   "outputs": [],
   "source": [
    "learning_rate = CustomSchedule(d_model)\n",
    "\n",
    "optimizer = tf.keras.optimizers.Adam(learning_rate, beta_1=0.9, beta_2=0.98, epsilon=1e-9)"
   ]
  },
  {
   "cell_type": "code",
   "execution_count": 20,
   "id": "hawaiian-competition",
   "metadata": {
    "execution": {
     "iopub.execute_input": "2021-06-13T12:48:52.483477Z",
     "iopub.status.busy": "2021-06-13T12:48:52.482968Z",
     "iopub.status.idle": "2021-06-13T12:48:52.668504Z",
     "shell.execute_reply": "2021-06-13T12:48:52.668067Z",
     "shell.execute_reply.started": "2021-06-13T11:50:23.309156Z"
    },
    "papermill": {
     "duration": 0.216775,
     "end_time": "2021-06-13T12:48:52.668613",
     "exception": false,
     "start_time": "2021-06-13T12:48:52.451838",
     "status": "completed"
    },
    "tags": []
   },
   "outputs": [
    {
     "data": {
      "text/plain": [
       "Text(0.5, 0, 'Train Step')"
      ]
     },
     "execution_count": 20,
     "metadata": {},
     "output_type": "execute_result"
    },
    {
     "data": {
      "image/png": "[encoded data removed]",
      "text/plain": [
       "<Figure size 432x288 with 1 Axes>"
      ]
     },
     "metadata": {
      "needs_background": "light"
     },
     "output_type": "display_data"
    }
   ],
   "source": [
    "temp_learning_rate_schedule = CustomSchedule(d_model)\n",
    "\n",
    "plt.plot(temp_learning_rate_schedule(tf.range(40000, dtype=tf.float32)))\n",
    "plt.ylabel(\"Learning Rate\")\n",
    "plt.xlabel(\"Train Step\")"
   ]
  },
  {
   "cell_type": "markdown",
   "id": "backed-wheat",
   "metadata": {
    "papermill": {
     "duration": 0.028704,
     "end_time": "2021-06-13T12:48:52.726889",
     "exception": false,
     "start_time": "2021-06-13T12:48:52.698185",
     "status": "completed"
    },
    "tags": []
   },
   "source": [
    "# Custom Loss and Accuracy"
   ]
  },
  {
   "cell_type": "code",
   "execution_count": 21,
   "id": "excessive-poland",
   "metadata": {
    "execution": {
     "iopub.execute_input": "2021-06-13T12:48:52.792353Z",
     "iopub.status.busy": "2021-06-13T12:48:52.791694Z",
     "iopub.status.idle": "2021-06-13T12:48:52.794582Z",
     "shell.execute_reply": "2021-06-13T12:48:52.794961Z",
     "shell.execute_reply.started": "2021-06-13T11:50:23.501981Z"
    },
    "papermill": {
     "duration": 0.039105,
     "end_time": "2021-06-13T12:48:52.795086",
     "exception": false,
     "start_time": "2021-06-13T12:48:52.755981",
     "status": "completed"
    },
    "tags": []
   },
   "outputs": [],
   "source": [
    "loss_object = tf.keras.losses.SparseCategoricalCrossentropy(from_logits=True, reduction='none')\n",
    "def loss_function(real, pred):\n",
    "    mask = tf.math.logical_not(tf.math.equal(real, 0))\n",
    "    loss_ = loss_object(real, pred)\n",
    "\n",
    "    mask = tf.cast(mask, dtype=loss_.dtype)\n",
    "    loss_ *= mask\n",
    "\n",
    "    return tf.reduce_sum(loss_)/tf.reduce_sum(mask)\n",
    "\n",
    "\n",
    "def accuracy_function(real, pred):\n",
    "    accuracies = tf.equal(real, tf.argmax(pred, axis=2))\n",
    "    #accuracies = tf.cast(accuracies, dtype= tf.float32)\n",
    "\n",
    "    mask = tf.math.logical_not(tf.math.equal(real, 0))\n",
    "    accuracies = tf.math.logical_and(mask, accuracies)\n",
    "\n",
    "    accuracies = tf.cast(accuracies, dtype=tf.float32)\n",
    "    mask = tf.cast(mask, dtype=tf.float32)\n",
    "    return tf.reduce_sum(accuracies)/tf.reduce_sum(mask)"
   ]
  },
  {
   "cell_type": "code",
   "execution_count": 22,
   "id": "egyptian-diameter",
   "metadata": {
    "execution": {
     "iopub.execute_input": "2021-06-13T12:48:52.857236Z",
     "iopub.status.busy": "2021-06-13T12:48:52.856696Z",
     "iopub.status.idle": "2021-06-13T12:48:52.876395Z",
     "shell.execute_reply": "2021-06-13T12:48:52.876770Z",
     "shell.execute_reply.started": "2021-06-13T11:50:23.511560Z"
    },
    "papermill": {
     "duration": 0.05257,
     "end_time": "2021-06-13T12:48:52.876892",
     "exception": false,
     "start_time": "2021-06-13T12:48:52.824322",
     "status": "completed"
    },
    "tags": []
   },
   "outputs": [],
   "source": [
    "train_loss = tf.keras.metrics.Mean(name='train_loss')\n",
    "train_accuracy = tf.keras.metrics.Mean(name='train_accuracy')"
   ]
  },
  {
   "cell_type": "code",
   "execution_count": 23,
   "id": "swedish-james",
   "metadata": {
    "execution": {
     "iopub.execute_input": "2021-06-13T12:48:52.939814Z",
     "iopub.status.busy": "2021-06-13T12:48:52.939009Z",
     "iopub.status.idle": "2021-06-13T12:48:53.022784Z",
     "shell.execute_reply": "2021-06-13T12:48:53.022364Z",
     "shell.execute_reply.started": "2021-06-13T11:50:23.541173Z"
    },
    "papermill": {
     "duration": 0.117282,
     "end_time": "2021-06-13T12:48:53.022894",
     "exception": false,
     "start_time": "2021-06-13T12:48:52.905612",
     "status": "completed"
    },
    "tags": []
   },
   "outputs": [],
   "source": [
    "transformer = Transformer(\n",
    "    num_layers=num_layers,\n",
    "    d_model=d_model,\n",
    "    num_heads=num_heads,\n",
    "    dff=dff,\n",
    "    input_vocab_size=ENCODER_VOCAB,\n",
    "    target_vocab_size=DECODER_VOCAB,\n",
    "    pe_input=1000,\n",
    "    pe_target=1000,\n",
    "    rate=dropout_rate)"
   ]
  },
  {
   "cell_type": "code",
   "execution_count": 24,
   "id": "confused-thanks",
   "metadata": {
    "execution": {
     "iopub.execute_input": "2021-06-13T12:48:53.085049Z",
     "iopub.status.busy": "2021-06-13T12:48:53.084504Z",
     "iopub.status.idle": "2021-06-13T12:48:53.088224Z",
     "shell.execute_reply": "2021-06-13T12:48:53.087821Z",
     "shell.execute_reply.started": "2021-06-13T11:50:23.634382Z"
    },
    "papermill": {
     "duration": 0.036611,
     "end_time": "2021-06-13T12:48:53.088328",
     "exception": false,
     "start_time": "2021-06-13T12:48:53.051717",
     "status": "completed"
    },
    "tags": []
   },
   "outputs": [],
   "source": [
    "def create_masks(inp, tar):\n",
    "    enc_padding_mask = create_padding_mask(inp)\n",
    "    dec_padding_mask = create_padding_mask(inp)\n",
    "\n",
    "    look_ahead_mask = create_look_ahead_mask(tf.shape(tar)[1])\n",
    "    dec_target_padding_mask = create_padding_mask(tar)\n",
    "    combined_mask = tf.maximum(dec_target_padding_mask, look_ahead_mask)\n",
    "  \n",
    "    return enc_padding_mask, combined_mask, dec_padding_mask"
   ]
  },
  {
   "cell_type": "code",
   "execution_count": 25,
   "id": "twenty-pregnancy",
   "metadata": {
    "execution": {
     "iopub.execute_input": "2021-06-13T12:48:53.152373Z",
     "iopub.status.busy": "2021-06-13T12:48:53.151769Z",
     "iopub.status.idle": "2021-06-13T12:48:53.154960Z",
     "shell.execute_reply": "2021-06-13T12:48:53.154532Z",
     "shell.execute_reply.started": "2021-06-13T11:50:23.641724Z"
    },
    "papermill": {
     "duration": 0.038102,
     "end_time": "2021-06-13T12:48:53.155060",
     "exception": false,
     "start_time": "2021-06-13T12:48:53.116958",
     "status": "completed"
    },
    "tags": []
   },
   "outputs": [],
   "source": [
    "checkpoint_path = \"checkpoints\"\n",
    "\n",
    "ckpt = tf.train.Checkpoint(transformer=transformer, optimizer=optimizer)\n",
    "\n",
    "ckpt_manager = tf.train.CheckpointManager(ckpt, checkpoint_path, max_to_keep=5)\n",
    "\n",
    "if ckpt_manager.latest_checkpoint:\n",
    "    ckpt.restore(ckpt_manager.latest_checkpoint)\n",
    "    print ('Latest checkpoint restored!!')"
   ]
  },
  {
   "cell_type": "code",
   "execution_count": 26,
   "id": "regulation-adaptation",
   "metadata": {
    "execution": {
     "iopub.execute_input": "2021-06-13T12:48:53.218896Z",
     "iopub.status.busy": "2021-06-13T12:48:53.218246Z",
     "iopub.status.idle": "2021-06-13T12:48:53.221020Z",
     "shell.execute_reply": "2021-06-13T12:48:53.220614Z",
     "shell.execute_reply.started": "2021-06-13T11:50:23.652972Z"
    },
    "papermill": {
     "duration": 0.037348,
     "end_time": "2021-06-13T12:48:53.221123",
     "exception": false,
     "start_time": "2021-06-13T12:48:53.183775",
     "status": "completed"
    },
    "tags": []
   },
   "outputs": [],
   "source": [
    "@tf.function\n",
    "def train_step(inp, tar):\n",
    "    tar_inp = tar[:, :-1]\n",
    "    tar_real = tar[:, 1:]\n",
    "\n",
    "    enc_padding_mask, combined_mask, dec_padding_mask = create_masks(inp, tar_inp)\n",
    "\n",
    "    with tf.GradientTape() as tape:\n",
    "        predictions, _ = transformer(\n",
    "            inp, tar_inp, \n",
    "            True, \n",
    "            enc_padding_mask, \n",
    "            combined_mask, \n",
    "            dec_padding_mask\n",
    "        )\n",
    "        loss = loss_function(tar_real, predictions)\n",
    "\n",
    "    gradients = tape.gradient(loss, transformer.trainable_variables)    \n",
    "    optimizer.apply_gradients(zip(gradients, transformer.trainable_variables))\n",
    "\n",
    "    train_loss(loss)\n",
    "    train_accuracy(accuracy_function(tar_real, predictions))"
   ]
  },
  {
   "cell_type": "markdown",
   "id": "reserved-hunter",
   "metadata": {
    "papermill": {
     "duration": 0.028671,
     "end_time": "2021-06-13T12:48:53.278668",
     "exception": false,
     "start_time": "2021-06-13T12:48:53.249997",
     "status": "completed"
    },
    "tags": []
   },
   "source": [
    "# Training the Model"
   ]
  },
  {
   "cell_type": "code",
   "execution_count": 27,
   "id": "wrapped-startup",
   "metadata": {
    "execution": {
     "iopub.execute_input": "2021-06-13T12:48:53.342195Z",
     "iopub.status.busy": "2021-06-13T12:48:53.341436Z",
     "iopub.status.idle": "2021-06-13T13:41:30.886977Z",
     "shell.execute_reply": "2021-06-13T13:41:30.887572Z",
     "shell.execute_reply.started": "2021-06-13T11:50:23.662535Z"
    },
    "papermill": {
     "duration": 3157.58018,
     "end_time": "2021-06-13T13:41:30.887816",
     "exception": false,
     "start_time": "2021-06-13T12:48:53.307636",
     "status": "completed"
    },
    "tags": []
   },
   "outputs": [
    {
     "name": "stdout",
     "output_type": "stream",
     "text": [
      "Epoch 1 Batch 0 Loss 10.2762 Accuracy 0.0000\n",
      "Epoch 1 Batch 100 Loss 10.1860 Accuracy 0.0695\n",
      "Epoch 1 Batch 200 Loss 9.9729 Accuracy 0.0821\n",
      "Epoch 1 Batch 300 Loss 9.6632 Accuracy 0.0869\n",
      "Epoch 1 Batch 400 Loss 9.3224 Accuracy 0.0901\n",
      "Epoch 1 Batch 500 Loss 9.0099 Accuracy 0.0931\n",
      "Epoch 1 Batch 600 Loss 8.7648 Accuracy 0.0967\n",
      "Epoch 1 Batch 700 Loss 8.5717 Accuracy 0.1022\n",
      "Epoch 1 Batch 800 Loss 8.4133 Accuracy 0.1070\n",
      "Epoch 1 Loss 8.3281 Accuracy 0.1098\n",
      "Time taken for 1 epoch: 219.59278440475464 secs\n",
      "\n",
      "Epoch 2 Batch 0 Loss 7.6200 Accuracy 0.1098\n",
      "Epoch 2 Batch 100 Loss 7.3679 Accuracy 0.1108\n",
      "Epoch 2 Batch 200 Loss 7.2920 Accuracy 0.1123\n",
      "Epoch 2 Batch 300 Loss 7.2209 Accuracy 0.1139\n",
      "Epoch 2 Batch 400 Loss 7.1763 Accuracy 0.1159\n",
      "Epoch 2 Batch 500 Loss 7.1251 Accuracy 0.1184\n",
      "Epoch 2 Batch 600 Loss 7.0704 Accuracy 0.1211\n",
      "Epoch 2 Batch 700 Loss 7.0086 Accuracy 0.1241\n",
      "Epoch 2 Batch 800 Loss 6.9449 Accuracy 0.1271\n",
      "Epoch 2 Loss 6.9030 Accuracy 0.1289\n",
      "Time taken for 1 epoch: 210.28742289543152 secs\n",
      "\n",
      "Epoch 3 Batch 0 Loss 6.9228 Accuracy 0.1290\n",
      "Epoch 3 Batch 100 Loss 6.6681 Accuracy 0.1299\n",
      "Epoch 3 Batch 200 Loss 6.5759 Accuracy 0.1312\n",
      "Epoch 3 Batch 300 Loss 6.5011 Accuracy 0.1327\n",
      "Epoch 3 Batch 400 Loss 6.4549 Accuracy 0.1345\n",
      "Epoch 3 Batch 500 Loss 6.4089 Accuracy 0.1365\n",
      "Epoch 3 Batch 600 Loss 6.3597 Accuracy 0.1389\n",
      "Epoch 3 Batch 700 Loss 6.3067 Accuracy 0.1417\n",
      "Epoch 3 Batch 800 Loss 6.2478 Accuracy 0.1445\n",
      "Epoch 3 Loss 6.2094 Accuracy 0.1464\n",
      "Time taken for 1 epoch: 210.09539580345154 secs\n",
      "\n",
      "Epoch 4 Batch 0 Loss 6.5819 Accuracy 0.1464\n",
      "Epoch 4 Batch 100 Loss 6.1026 Accuracy 0.1475\n",
      "Epoch 4 Batch 200 Loss 6.0180 Accuracy 0.1490\n",
      "Epoch 4 Batch 300 Loss 5.9404 Accuracy 0.1508\n",
      "Epoch 4 Batch 400 Loss 5.9031 Accuracy 0.1526\n",
      "Epoch 4 Batch 500 Loss 5.8582 Accuracy 0.1547\n",
      "Epoch 4 Batch 600 Loss 5.8157 Accuracy 0.1569\n",
      "Epoch 4 Batch 700 Loss 5.7624 Accuracy 0.1596\n",
      "Epoch 4 Batch 800 Loss 5.7077 Accuracy 0.1623\n",
      "Epoch 4 Loss 5.6725 Accuracy 0.1640\n",
      "Time taken for 1 epoch: 209.5779323577881 secs\n",
      "\n",
      "Epoch 5 Batch 0 Loss 6.2267 Accuracy 0.1640\n",
      "Epoch 5 Batch 100 Loss 5.6492 Accuracy 0.1653\n",
      "Epoch 5 Batch 200 Loss 5.5662 Accuracy 0.1668\n",
      "Epoch 5 Batch 300 Loss 5.4956 Accuracy 0.1686\n",
      "Epoch 5 Batch 400 Loss 5.4573 Accuracy 0.1704\n",
      "Epoch 5 Batch 500 Loss 5.4144 Accuracy 0.1725\n",
      "Epoch 5 Batch 600 Loss 5.3728 Accuracy 0.1747\n",
      "Epoch 5 Batch 700 Loss 5.3241 Accuracy 0.1772\n",
      "Epoch 5 Batch 800 Loss 5.2696 Accuracy 0.1798\n",
      "Saving checkpoint for epoch 5 at checkpoints/ckpt-1\n",
      "Epoch 5 Loss 5.2354 Accuracy 0.1815\n",
      "Time taken for 1 epoch: 211.53321385383606 secs\n",
      "\n",
      "Epoch 6 Batch 0 Loss 5.6659 Accuracy 0.1815\n",
      "Epoch 6 Batch 100 Loss 5.2600 Accuracy 0.1829\n",
      "Epoch 6 Batch 200 Loss 5.1715 Accuracy 0.1845\n",
      "Epoch 6 Batch 300 Loss 5.0917 Accuracy 0.1864\n",
      "Epoch 6 Batch 400 Loss 5.0512 Accuracy 0.1882\n",
      "Epoch 6 Batch 500 Loss 5.0030 Accuracy 0.1904\n",
      "Epoch 6 Batch 600 Loss 4.9540 Accuracy 0.1927\n",
      "Epoch 6 Batch 700 Loss 4.9020 Accuracy 0.1952\n",
      "Epoch 6 Batch 800 Loss 4.8464 Accuracy 0.1978\n",
      "Epoch 6 Loss 4.8127 Accuracy 0.1994\n",
      "Time taken for 1 epoch: 210.51840686798096 secs\n",
      "\n",
      "Epoch 7 Batch 0 Loss 5.4497 Accuracy 0.1994\n",
      "Epoch 7 Batch 100 Loss 4.8725 Accuracy 0.2009\n",
      "Epoch 7 Batch 200 Loss 4.7807 Accuracy 0.2026\n",
      "Epoch 7 Batch 300 Loss 4.7078 Accuracy 0.2045\n",
      "Epoch 7 Batch 400 Loss 4.6697 Accuracy 0.2064\n",
      "Epoch 7 Batch 500 Loss 4.6206 Accuracy 0.2086\n",
      "Epoch 7 Batch 600 Loss 4.5770 Accuracy 0.2108\n",
      "Epoch 7 Batch 700 Loss 4.5288 Accuracy 0.2132\n",
      "Epoch 7 Batch 800 Loss 4.4773 Accuracy 0.2158\n",
      "Epoch 7 Loss 4.4473 Accuracy 0.2173\n",
      "Time taken for 1 epoch: 210.87215399742126 secs\n",
      "\n",
      "Epoch 8 Batch 0 Loss 5.3522 Accuracy 0.2173\n",
      "Epoch 8 Batch 100 Loss 4.5655 Accuracy 0.2188\n",
      "Epoch 8 Batch 200 Loss 4.4688 Accuracy 0.2205\n",
      "Epoch 8 Batch 300 Loss 4.4044 Accuracy 0.2224\n",
      "Epoch 8 Batch 400 Loss 4.3661 Accuracy 0.2242\n",
      "Epoch 8 Batch 500 Loss 4.3194 Accuracy 0.2264\n",
      "Epoch 8 Batch 600 Loss 4.2764 Accuracy 0.2285\n",
      "Epoch 8 Batch 700 Loss 4.2300 Accuracy 0.2309\n",
      "Epoch 8 Batch 800 Loss 4.1836 Accuracy 0.2333\n",
      "Epoch 8 Loss 4.1562 Accuracy 0.2347\n",
      "Time taken for 1 epoch: 210.07146430015564 secs\n",
      "\n",
      "Epoch 9 Batch 0 Loss 5.0743 Accuracy 0.2347\n",
      "Epoch 9 Batch 100 Loss 4.3107 Accuracy 0.2362\n",
      "Epoch 9 Batch 200 Loss 4.2221 Accuracy 0.2378\n",
      "Epoch 9 Batch 300 Loss 4.1554 Accuracy 0.2396\n",
      "Epoch 9 Batch 400 Loss 4.1206 Accuracy 0.2413\n",
      "Epoch 9 Batch 500 Loss 4.0731 Accuracy 0.2434\n",
      "Epoch 9 Batch 600 Loss 4.0307 Accuracy 0.2454\n",
      "Epoch 9 Batch 700 Loss 3.9859 Accuracy 0.2477\n",
      "Epoch 9 Batch 800 Loss 3.9427 Accuracy 0.2500\n",
      "Epoch 9 Loss 3.9166 Accuracy 0.2513\n",
      "Time taken for 1 epoch: 209.44036483764648 secs\n",
      "\n",
      "Epoch 10 Batch 0 Loss 4.7632 Accuracy 0.2513\n",
      "Epoch 10 Batch 100 Loss 4.0992 Accuracy 0.2527\n",
      "Epoch 10 Batch 200 Loss 4.0102 Accuracy 0.2542\n",
      "Epoch 10 Batch 300 Loss 3.9476 Accuracy 0.2559\n",
      "Epoch 10 Batch 400 Loss 3.9122 Accuracy 0.2576\n",
      "Epoch 10 Batch 500 Loss 3.8652 Accuracy 0.2596\n",
      "Epoch 10 Batch 600 Loss 3.8238 Accuracy 0.2615\n",
      "Epoch 10 Batch 700 Loss 3.7810 Accuracy 0.2636\n",
      "Epoch 10 Batch 800 Loss 3.7371 Accuracy 0.2658\n",
      "Saving checkpoint for epoch 10 at checkpoints/ckpt-2\n",
      "Epoch 10 Loss 3.7136 Accuracy 0.2671\n",
      "Time taken for 1 epoch: 210.70125794410706 secs\n",
      "\n",
      "Epoch 11 Batch 0 Loss 4.4421 Accuracy 0.2671\n",
      "Epoch 11 Batch 100 Loss 3.9005 Accuracy 0.2684\n",
      "Epoch 11 Batch 200 Loss 3.8197 Accuracy 0.2699\n",
      "Epoch 11 Batch 300 Loss 3.7589 Accuracy 0.2715\n",
      "Epoch 11 Batch 400 Loss 3.7225 Accuracy 0.2732\n",
      "Epoch 11 Batch 500 Loss 3.6774 Accuracy 0.2750\n",
      "Epoch 11 Batch 600 Loss 3.6380 Accuracy 0.2769\n",
      "Epoch 11 Batch 700 Loss 3.5939 Accuracy 0.2789\n",
      "Epoch 11 Batch 800 Loss 3.5516 Accuracy 0.2809\n",
      "Epoch 11 Loss 3.5302 Accuracy 0.2822\n",
      "Time taken for 1 epoch: 210.0782778263092 secs\n",
      "\n",
      "Epoch 12 Batch 0 Loss 4.2410 Accuracy 0.2822\n",
      "Epoch 12 Batch 100 Loss 3.7533 Accuracy 0.2834\n",
      "Epoch 12 Batch 200 Loss 3.6664 Accuracy 0.2848\n",
      "Epoch 12 Batch 300 Loss 3.6093 Accuracy 0.2863\n",
      "Epoch 12 Batch 400 Loss 3.5764 Accuracy 0.2879\n",
      "Epoch 12 Batch 500 Loss 3.5291 Accuracy 0.2896\n",
      "Epoch 12 Batch 600 Loss 3.4884 Accuracy 0.2914\n",
      "Epoch 12 Batch 700 Loss 3.4454 Accuracy 0.2932\n",
      "Epoch 12 Batch 800 Loss 3.4070 Accuracy 0.2952\n",
      "Epoch 12 Loss 3.3848 Accuracy 0.2963\n",
      "Time taken for 1 epoch: 209.8807430267334 secs\n",
      "\n",
      "Epoch 13 Batch 0 Loss 4.0854 Accuracy 0.2963\n",
      "Epoch 13 Batch 100 Loss 3.6277 Accuracy 0.2975\n",
      "Epoch 13 Batch 200 Loss 3.5386 Accuracy 0.2989\n",
      "Epoch 13 Batch 300 Loss 3.4801 Accuracy 0.3003\n",
      "Epoch 13 Batch 400 Loss 3.4433 Accuracy 0.3018\n",
      "Epoch 13 Batch 500 Loss 3.3998 Accuracy 0.3034\n",
      "Epoch 13 Batch 600 Loss 3.3643 Accuracy 0.3051\n",
      "Epoch 13 Batch 700 Loss 3.3253 Accuracy 0.3069\n",
      "Epoch 13 Batch 800 Loss 3.2879 Accuracy 0.3087\n",
      "Epoch 13 Loss 3.2675 Accuracy 0.3097\n",
      "Time taken for 1 epoch: 209.81916451454163 secs\n",
      "\n",
      "Epoch 14 Batch 0 Loss 4.1839 Accuracy 0.3097\n",
      "Epoch 14 Batch 100 Loss 3.5252 Accuracy 0.3109\n",
      "Epoch 14 Batch 200 Loss 3.4391 Accuracy 0.3121\n",
      "Epoch 14 Batch 300 Loss 3.3781 Accuracy 0.3135\n",
      "Epoch 14 Batch 400 Loss 3.3426 Accuracy 0.3148\n",
      "Epoch 14 Batch 500 Loss 3.2985 Accuracy 0.3164\n",
      "Epoch 14 Batch 600 Loss 3.2639 Accuracy 0.3180\n",
      "Epoch 14 Batch 700 Loss 3.2269 Accuracy 0.3196\n",
      "Epoch 14 Batch 800 Loss 3.1924 Accuracy 0.3213\n",
      "Epoch 14 Loss 3.1716 Accuracy 0.3223\n",
      "Time taken for 1 epoch: 207.79641151428223 secs\n",
      "\n",
      "Epoch 15 Batch 0 Loss 3.7361 Accuracy 0.3223\n",
      "Epoch 15 Batch 100 Loss 3.4226 Accuracy 0.3234\n",
      "Epoch 15 Batch 200 Loss 3.3438 Accuracy 0.3246\n",
      "Epoch 15 Batch 300 Loss 3.2821 Accuracy 0.3259\n",
      "Epoch 15 Batch 400 Loss 3.2446 Accuracy 0.3271\n",
      "Epoch 15 Batch 500 Loss 3.2032 Accuracy 0.3286\n",
      "Epoch 15 Batch 600 Loss 3.1639 Accuracy 0.3301\n",
      "Epoch 15 Batch 700 Loss 3.1266 Accuracy 0.3317\n",
      "Epoch 15 Batch 800 Loss 3.0900 Accuracy 0.3333\n",
      "Saving checkpoint for epoch 15 at checkpoints/ckpt-3\n",
      "Epoch 15 Loss 3.0701 Accuracy 0.3343\n",
      "Time taken for 1 epoch: 207.2080442905426 secs\n",
      "\n"
     ]
    }
   ],
   "source": [
    "for epoch in range(EPOCHS):\n",
    "    start = time.time()\n",
    "\n",
    "    train_loss.reset_states()\n",
    "  \n",
    "    for (batch, (inp, tar)) in enumerate(dataset):\n",
    "        train_step(inp, tar)\n",
    "    \n",
    "        if batch % 100 == 0:\n",
    "            print(f'Epoch {epoch + 1} Batch {batch} Loss {train_loss.result():.4f} Accuracy {train_accuracy.result():.4f}')\n",
    "      \n",
    "    if (epoch + 1) % 5 == 0:\n",
    "        ckpt_save_path = ckpt_manager.save()\n",
    "        print ('Saving checkpoint for epoch {} at {}'.format(epoch+1, ckpt_save_path))\n",
    "   \n",
    "    print(f'Epoch {epoch + 1} Loss {train_loss.result():.4f} Accuracy {train_accuracy.result():.4f}')\n",
    "    print ('Time taken for 1 epoch: {} secs\\n'.format(time.time() - start))"
   ]
  },
  {
   "cell_type": "markdown",
   "id": "equipped-petite",
   "metadata": {
    "papermill": {
     "duration": 0.065931,
     "end_time": "2021-06-13T13:41:31.020329",
     "exception": false,
     "start_time": "2021-06-13T13:41:30.954398",
     "status": "completed"
    },
    "tags": []
   },
   "source": [
    "# Evaluation"
   ]
  },
  {
   "cell_type": "code",
   "execution_count": 28,
   "id": "hired-fantasy",
   "metadata": {
    "execution": {
     "iopub.execute_input": "2021-06-13T13:41:31.159483Z",
     "iopub.status.busy": "2021-06-13T13:41:31.158983Z",
     "iopub.status.idle": "2021-06-13T13:41:31.162675Z",
     "shell.execute_reply": "2021-06-13T13:41:31.162287Z",
     "shell.execute_reply.started": "2021-06-13T12:40:19.759571Z"
    },
    "papermill": {
     "duration": 0.076896,
     "end_time": "2021-06-13T13:41:31.162795",
     "exception": false,
     "start_time": "2021-06-13T13:41:31.085899",
     "status": "completed"
    },
    "tags": []
   },
   "outputs": [],
   "source": [
    "def evaluate(input_article):\n",
    "    input_article = article_tokenizer.texts_to_sequences([input_article])\n",
    "    input_article = tf.keras.preprocessing.sequence.pad_sequences(input_article, maxlen=ENCODER_LEN, \n",
    "                                                                   padding='post', truncating='post')\n",
    "\n",
    "    encoder_input = tf.expand_dims(input_article[0], 0)\n",
    "\n",
    "    decoder_input = [summary_tokenizer.word_index['<sos>']]\n",
    "    output = tf.expand_dims(decoder_input, 0)\n",
    "    \n",
    "    for i in range(DECODER_LEN):\n",
    "        enc_padding_mask, combined_mask, dec_padding_mask = create_masks(encoder_input, output)\n",
    "\n",
    "        predictions, attention_weights = transformer(\n",
    "            encoder_input, \n",
    "            output,\n",
    "            False,\n",
    "            enc_padding_mask,\n",
    "            combined_mask,\n",
    "            dec_padding_mask\n",
    "        )\n",
    "\n",
    "        predictions = predictions[: ,-1:, :]\n",
    "        predicted_id = tf.cast(tf.argmax(predictions, axis=-1), tf.int32)\n",
    "\n",
    "        if predicted_id == summary_tokenizer.word_index['<eos>']:\n",
    "            return tf.squeeze(output, axis=0), attention_weights\n",
    "\n",
    "        output = tf.concat([output, predicted_id], axis=-1)\n",
    "\n",
    "    return tf.squeeze(output, axis=0), attention_weights"
   ]
  },
  {
   "cell_type": "code",
   "execution_count": 29,
   "id": "decent-public",
   "metadata": {
    "execution": {
     "iopub.execute_input": "2021-06-13T13:41:31.299231Z",
     "iopub.status.busy": "2021-06-13T13:41:31.298709Z",
     "iopub.status.idle": "2021-06-13T13:41:31.302380Z",
     "shell.execute_reply": "2021-06-13T13:41:31.301996Z",
     "shell.execute_reply.started": "2021-06-13T12:40:19.771402Z"
    },
    "papermill": {
     "duration": 0.07269,
     "end_time": "2021-06-13T13:41:31.302481",
     "exception": false,
     "start_time": "2021-06-13T13:41:31.229791",
     "status": "completed"
    },
    "tags": []
   },
   "outputs": [],
   "source": [
    "def summarize(input_article):\n",
    "    summarized = evaluate(input_article=input_article)[0].numpy()\n",
    "    summarized = np.expand_dims(summarized[1:], 0)  \n",
    "    return summary_tokenizer.sequences_to_texts(summarized)[0]"
   ]
  },
  {
   "cell_type": "markdown",
   "id": "personalized-cheat",
   "metadata": {
    "papermill": {
     "duration": 0.065367,
     "end_time": "2021-06-13T13:41:31.432970",
     "exception": false,
     "start_time": "2021-06-13T13:41:31.367603",
     "status": "completed"
    },
    "tags": []
   },
   "source": [
    "# Predictions\n",
    "\n",
    "Below me make predictions on some texts to see how the model is performimg. Since this was a very basic approach the model wont perform that well but it can surely be improved."
   ]
  },
  {
   "cell_type": "code",
   "execution_count": 30,
   "id": "searching-ethnic",
   "metadata": {
    "execution": {
     "iopub.execute_input": "2021-06-13T13:41:31.567479Z",
     "iopub.status.busy": "2021-06-13T13:41:31.566991Z",
     "iopub.status.idle": "2021-06-13T13:41:31.572405Z",
     "shell.execute_reply": "2021-06-13T13:41:31.572021Z",
     "shell.execute_reply.started": "2021-06-13T12:46:51.814311Z"
    },
    "papermill": {
     "duration": 0.074356,
     "end_time": "2021-06-13T13:41:31.572505",
     "exception": false,
     "start_time": "2021-06-13T13:41:31.498149",
     "status": "completed"
    },
    "tags": []
   },
   "outputs": [
    {
     "data": {
      "text/plain": [
       "'<SOS> A new trailer for the upcoming superhero film  Justice League  was released on Saturday. Based on the DC Comics superhero team, the film stars Ben Affleck as  Batman , Gal Gadot as  Wonder Woman , Ezra Miller as  The Flash  and Jason Momoa as  Aquaman . Directed by Zack Snyder, the film is scheduled to release on November 17, 2017. <EOS>'"
      ]
     },
     "execution_count": 30,
     "metadata": {},
     "output_type": "execute_result"
    }
   ],
   "source": [
    "article[5]"
   ]
  },
  {
   "cell_type": "code",
   "execution_count": 31,
   "id": "thousand-gambling",
   "metadata": {
    "execution": {
     "iopub.execute_input": "2021-06-13T13:41:31.835632Z",
     "iopub.status.busy": "2021-06-13T13:41:31.834763Z",
     "iopub.status.idle": "2021-06-13T13:41:32.971989Z",
     "shell.execute_reply": "2021-06-13T13:41:32.972834Z",
     "shell.execute_reply.started": "2021-06-13T12:47:18.822118Z"
    },
    "papermill": {
     "duration": 1.315627,
     "end_time": "2021-06-13T13:41:32.972995",
     "exception": false,
     "start_time": "2021-06-13T13:41:31.657368",
     "status": "completed"
    },
    "tags": []
   },
   "outputs": [
    {
     "name": "stdout",
     "output_type": "stream",
     "text": [
      "Real Headline :   New trailer of  Justice League  released  \n",
      " Predicted Summary :  new trailer of justice league released\n"
     ]
    }
   ],
   "source": [
    "print(\"Real Headline : \", summary[5][5:-5],\"\\n Predicted Summary : \", summarize(article[5]))"
   ]
  },
  {
   "cell_type": "code",
   "execution_count": 32,
   "id": "welcome-rental",
   "metadata": {
    "execution": {
     "iopub.execute_input": "2021-06-13T13:41:33.113925Z",
     "iopub.status.busy": "2021-06-13T13:41:33.113373Z",
     "iopub.status.idle": "2021-06-13T13:41:33.119071Z",
     "shell.execute_reply": "2021-06-13T13:41:33.118631Z",
     "shell.execute_reply.started": "2021-06-13T12:47:38.654362Z"
    },
    "papermill": {
     "duration": 0.077601,
     "end_time": "2021-06-13T13:41:33.119175",
     "exception": false,
     "start_time": "2021-06-13T13:41:33.041574",
     "status": "completed"
    },
    "tags": []
   },
   "outputs": [
    {
     "data": {
      "text/plain": [
       "'<SOS> As a part of an education initiative, the entire Wankhede Stadium will be reserved for underprivileged children for the IPL 2017 match between Mumbai Indians and Gujarat Lions, to be held on April 16. A statement by the Mumbai Indians read that they will not be selling any stand tickets for the team s third home game, against the Gujarat Lions. <EOS>'"
      ]
     },
     "execution_count": 32,
     "metadata": {},
     "output_type": "execute_result"
    }
   ],
   "source": [
    "article[16]"
   ]
  },
  {
   "cell_type": "code",
   "execution_count": 33,
   "id": "selective-retailer",
   "metadata": {
    "execution": {
     "iopub.execute_input": "2021-06-13T13:41:33.257654Z",
     "iopub.status.busy": "2021-06-13T13:41:33.256784Z",
     "iopub.status.idle": "2021-06-13T13:41:33.788095Z",
     "shell.execute_reply": "2021-06-13T13:41:33.787658Z",
     "shell.execute_reply.started": "2021-06-13T12:47:35.568548Z"
    },
    "papermill": {
     "duration": 0.602041,
     "end_time": "2021-06-13T13:41:33.788215",
     "exception": false,
     "start_time": "2021-06-13T13:41:33.186174",
     "status": "completed"
    },
    "tags": []
   },
   "outputs": [
    {
     "name": "stdout",
     "output_type": "stream",
     "text": [
      "Real Headline :   Underprivileged kids to fill Wankhede during MI s IPL match  \n",
      "Predicted Summary :  pune to be reserves without underprivileged kids\n"
     ]
    }
   ],
   "source": [
    "print(\"Real Headline : \", summary[16][5:-5],\"\\nPredicted Summary : \", summarize(article[16]))"
   ]
  },
  {
   "cell_type": "code",
   "execution_count": 34,
   "id": "clear-demand",
   "metadata": {
    "execution": {
     "iopub.execute_input": "2021-06-13T13:41:33.927416Z",
     "iopub.status.busy": "2021-06-13T13:41:33.926925Z",
     "iopub.status.idle": "2021-06-13T13:41:33.932515Z",
     "shell.execute_reply": "2021-06-13T13:41:33.932099Z",
     "shell.execute_reply.started": "2021-06-13T12:47:41.369372Z"
    },
    "papermill": {
     "duration": 0.075806,
     "end_time": "2021-06-13T13:41:33.932624",
     "exception": false,
     "start_time": "2021-06-13T13:41:33.856818",
     "status": "completed"
    },
    "tags": []
   },
   "outputs": [
    {
     "data": {
      "text/plain": [
       "'<SOS> Uttar Pradesh s Deputy Chief Minister Dinesh Sharma on Saturday said that a transparent system to end cheating in the state board exams will be brought in.  Every department and organisation concerned has been given instructions and I am personally monitoring it,  he added. This comes after class X students were caught mass cheating on camera at a Ballia school. <EOS>'"
      ]
     },
     "execution_count": 34,
     "metadata": {},
     "output_type": "execute_result"
    }
   ],
   "source": [
    "article[23]"
   ]
  },
  {
   "cell_type": "code",
   "execution_count": 35,
   "id": "suitable-hometown",
   "metadata": {
    "execution": {
     "iopub.execute_input": "2021-06-13T13:41:34.072610Z",
     "iopub.status.busy": "2021-06-13T13:41:34.071764Z",
     "iopub.status.idle": "2021-06-13T13:41:34.598719Z",
     "shell.execute_reply": "2021-06-13T13:41:34.598138Z",
     "shell.execute_reply.started": "2021-06-13T12:47:45.693891Z"
    },
    "papermill": {
     "duration": 0.59851,
     "end_time": "2021-06-13T13:41:34.598894",
     "exception": false,
     "start_time": "2021-06-13T13:41:34.000384",
     "status": "completed"
    },
    "tags": []
   },
   "outputs": [
    {
     "name": "stdout",
     "output_type": "stream",
     "text": [
      "Real Headline :   UP govt assures transparent system to end cheating in exams  \n",
      "Predicted Summary :  no power system to end medical college\n"
     ]
    }
   ],
   "source": [
    "print(\"Real Headline : \", summary[23][5:-5],\"\\nPredicted Summary : \", summarize(article[23]))"
   ]
  },
  {
   "cell_type": "code",
   "execution_count": null,
   "id": "sexual-blend",
   "metadata": {
    "papermill": {
     "duration": 0.06705,
     "end_time": "2021-06-13T13:41:34.734530",
     "exception": false,
     "start_time": "2021-06-13T13:41:34.667480",
     "status": "completed"
    },
    "tags": []
   },
   "outputs": [],
   "source": []
  }
 ],
 "metadata": {
  "kernelspec": {
   "display_name": "Python 3",
   "language": "python",
   "name": "python3"
  },
  "language_info": {
   "codemirror_mode": {
    "name": "ipython",
    "version": 3
   },
   "file_extension": ".py",
   "mimetype": "text/x-python",
   "name": "python",
   "nbconvert_exporter": "python",
   "pygments_lexer": "ipython3",
   "version": "3.7.10"
  },
  "papermill": {
   "default_parameters": {},
   "duration": 3205.814999,
   "end_time": "2021-06-13T13:41:37.565408",
   "environment_variables": {},
   "exception": null,
   "input_path": "__notebook__.ipynb",
   "output_path": "__notebook__.ipynb",
   "parameters": {},
   "start_time": "2021-06-13T12:48:11.750409",
   "version": "2.3.3"
  }
 },
 "nbformat": 4,
 "nbformat_minor": 5
}
